{
  "nbformat": 4,
  "nbformat_minor": 0,
  "metadata": {
    "colab": {
      "provenance": [],
      "gpuType": "T4"
    },
    "kernelspec": {
      "name": "python3",
      "display_name": "Python 3"
    },
    "language_info": {
      "name": "python"
    },
    "accelerator": "GPU"
  },
  "cells": [
    {
      "cell_type": "markdown",
      "source": [
        "#Import Dataset from Kaggle"
      ],
      "metadata": {
        "id": "1w0yvMIaxSDb"
      }
    },
    {
      "cell_type": "code",
      "execution_count": 1,
      "metadata": {
        "colab": {
          "base_uri": "https://localhost:8080/"
        },
        "id": "0qGR7Deov0gR",
        "outputId": "9dad0caa-39ad-406b-c459-637d7f56b4d0"
      },
      "outputs": [
        {
          "output_type": "stream",
          "name": "stdout",
          "text": [
            "Requirement already satisfied: kaggle in /usr/local/lib/python3.10/dist-packages (1.5.16)\n",
            "Requirement already satisfied: six>=1.10 in /usr/local/lib/python3.10/dist-packages (from kaggle) (1.16.0)\n",
            "Requirement already satisfied: certifi in /usr/local/lib/python3.10/dist-packages (from kaggle) (2023.11.17)\n",
            "Requirement already satisfied: python-dateutil in /usr/local/lib/python3.10/dist-packages (from kaggle) (2.8.2)\n",
            "Requirement already satisfied: requests in /usr/local/lib/python3.10/dist-packages (from kaggle) (2.31.0)\n",
            "Requirement already satisfied: tqdm in /usr/local/lib/python3.10/dist-packages (from kaggle) (4.66.1)\n",
            "Requirement already satisfied: python-slugify in /usr/local/lib/python3.10/dist-packages (from kaggle) (8.0.1)\n",
            "Requirement already satisfied: urllib3 in /usr/local/lib/python3.10/dist-packages (from kaggle) (2.0.7)\n",
            "Requirement already satisfied: bleach in /usr/local/lib/python3.10/dist-packages (from kaggle) (6.1.0)\n",
            "Requirement already satisfied: webencodings in /usr/local/lib/python3.10/dist-packages (from bleach->kaggle) (0.5.1)\n",
            "Requirement already satisfied: text-unidecode>=1.3 in /usr/local/lib/python3.10/dist-packages (from python-slugify->kaggle) (1.3)\n",
            "Requirement already satisfied: charset-normalizer<4,>=2 in /usr/local/lib/python3.10/dist-packages (from requests->kaggle) (3.3.2)\n",
            "Requirement already satisfied: idna<4,>=2.5 in /usr/local/lib/python3.10/dist-packages (from requests->kaggle) (3.6)\n"
          ]
        }
      ],
      "source": [
        "!pip install kaggle\n"
      ]
    },
    {
      "cell_type": "code",
      "source": [
        "from google.colab import files\n",
        "files.upload()"
      ],
      "metadata": {
        "colab": {
          "base_uri": "https://localhost:8080/",
          "height": 91
        },
        "id": "hRgUCWFfv9uj",
        "outputId": "7a2107f5-b89e-4e3d-ce06-4278a5854dc5"
      },
      "execution_count": 2,
      "outputs": [
        {
          "output_type": "display_data",
          "data": {
            "text/plain": [
              "<IPython.core.display.HTML object>"
            ],
            "text/html": [
              "\n",
              "     <input type=\"file\" id=\"files-d7ffe87c-8896-4424-8534-74384249c1fd\" name=\"files[]\" multiple disabled\n",
              "        style=\"border:none\" />\n",
              "     <output id=\"result-d7ffe87c-8896-4424-8534-74384249c1fd\">\n",
              "      Upload widget is only available when the cell has been executed in the\n",
              "      current browser session. Please rerun this cell to enable.\n",
              "      </output>\n",
              "      <script>// Copyright 2017 Google LLC\n",
              "//\n",
              "// Licensed under the Apache License, Version 2.0 (the \"License\");\n",
              "// you may not use this file except in compliance with the License.\n",
              "// You may obtain a copy of the License at\n",
              "//\n",
              "//      http://www.apache.org/licenses/LICENSE-2.0\n",
              "//\n",
              "// Unless required by applicable law or agreed to in writing, software\n",
              "// distributed under the License is distributed on an \"AS IS\" BASIS,\n",
              "// WITHOUT WARRANTIES OR CONDITIONS OF ANY KIND, either express or implied.\n",
              "// See the License for the specific language governing permissions and\n",
              "// limitations under the License.\n",
              "\n",
              "/**\n",
              " * @fileoverview Helpers for google.colab Python module.\n",
              " */\n",
              "(function(scope) {\n",
              "function span(text, styleAttributes = {}) {\n",
              "  const element = document.createElement('span');\n",
              "  element.textContent = text;\n",
              "  for (const key of Object.keys(styleAttributes)) {\n",
              "    element.style[key] = styleAttributes[key];\n",
              "  }\n",
              "  return element;\n",
              "}\n",
              "\n",
              "// Max number of bytes which will be uploaded at a time.\n",
              "const MAX_PAYLOAD_SIZE = 100 * 1024;\n",
              "\n",
              "function _uploadFiles(inputId, outputId) {\n",
              "  const steps = uploadFilesStep(inputId, outputId);\n",
              "  const outputElement = document.getElementById(outputId);\n",
              "  // Cache steps on the outputElement to make it available for the next call\n",
              "  // to uploadFilesContinue from Python.\n",
              "  outputElement.steps = steps;\n",
              "\n",
              "  return _uploadFilesContinue(outputId);\n",
              "}\n",
              "\n",
              "// This is roughly an async generator (not supported in the browser yet),\n",
              "// where there are multiple asynchronous steps and the Python side is going\n",
              "// to poll for completion of each step.\n",
              "// This uses a Promise to block the python side on completion of each step,\n",
              "// then passes the result of the previous step as the input to the next step.\n",
              "function _uploadFilesContinue(outputId) {\n",
              "  const outputElement = document.getElementById(outputId);\n",
              "  const steps = outputElement.steps;\n",
              "\n",
              "  const next = steps.next(outputElement.lastPromiseValue);\n",
              "  return Promise.resolve(next.value.promise).then((value) => {\n",
              "    // Cache the last promise value to make it available to the next\n",
              "    // step of the generator.\n",
              "    outputElement.lastPromiseValue = value;\n",
              "    return next.value.response;\n",
              "  });\n",
              "}\n",
              "\n",
              "/**\n",
              " * Generator function which is called between each async step of the upload\n",
              " * process.\n",
              " * @param {string} inputId Element ID of the input file picker element.\n",
              " * @param {string} outputId Element ID of the output display.\n",
              " * @return {!Iterable<!Object>} Iterable of next steps.\n",
              " */\n",
              "function* uploadFilesStep(inputId, outputId) {\n",
              "  const inputElement = document.getElementById(inputId);\n",
              "  inputElement.disabled = false;\n",
              "\n",
              "  const outputElement = document.getElementById(outputId);\n",
              "  outputElement.innerHTML = '';\n",
              "\n",
              "  const pickedPromise = new Promise((resolve) => {\n",
              "    inputElement.addEventListener('change', (e) => {\n",
              "      resolve(e.target.files);\n",
              "    });\n",
              "  });\n",
              "\n",
              "  const cancel = document.createElement('button');\n",
              "  inputElement.parentElement.appendChild(cancel);\n",
              "  cancel.textContent = 'Cancel upload';\n",
              "  const cancelPromise = new Promise((resolve) => {\n",
              "    cancel.onclick = () => {\n",
              "      resolve(null);\n",
              "    };\n",
              "  });\n",
              "\n",
              "  // Wait for the user to pick the files.\n",
              "  const files = yield {\n",
              "    promise: Promise.race([pickedPromise, cancelPromise]),\n",
              "    response: {\n",
              "      action: 'starting',\n",
              "    }\n",
              "  };\n",
              "\n",
              "  cancel.remove();\n",
              "\n",
              "  // Disable the input element since further picks are not allowed.\n",
              "  inputElement.disabled = true;\n",
              "\n",
              "  if (!files) {\n",
              "    return {\n",
              "      response: {\n",
              "        action: 'complete',\n",
              "      }\n",
              "    };\n",
              "  }\n",
              "\n",
              "  for (const file of files) {\n",
              "    const li = document.createElement('li');\n",
              "    li.append(span(file.name, {fontWeight: 'bold'}));\n",
              "    li.append(span(\n",
              "        `(${file.type || 'n/a'}) - ${file.size} bytes, ` +\n",
              "        `last modified: ${\n",
              "            file.lastModifiedDate ? file.lastModifiedDate.toLocaleDateString() :\n",
              "                                    'n/a'} - `));\n",
              "    const percent = span('0% done');\n",
              "    li.appendChild(percent);\n",
              "\n",
              "    outputElement.appendChild(li);\n",
              "\n",
              "    const fileDataPromise = new Promise((resolve) => {\n",
              "      const reader = new FileReader();\n",
              "      reader.onload = (e) => {\n",
              "        resolve(e.target.result);\n",
              "      };\n",
              "      reader.readAsArrayBuffer(file);\n",
              "    });\n",
              "    // Wait for the data to be ready.\n",
              "    let fileData = yield {\n",
              "      promise: fileDataPromise,\n",
              "      response: {\n",
              "        action: 'continue',\n",
              "      }\n",
              "    };\n",
              "\n",
              "    // Use a chunked sending to avoid message size limits. See b/62115660.\n",
              "    let position = 0;\n",
              "    do {\n",
              "      const length = Math.min(fileData.byteLength - position, MAX_PAYLOAD_SIZE);\n",
              "      const chunk = new Uint8Array(fileData, position, length);\n",
              "      position += length;\n",
              "\n",
              "      const base64 = btoa(String.fromCharCode.apply(null, chunk));\n",
              "      yield {\n",
              "        response: {\n",
              "          action: 'append',\n",
              "          file: file.name,\n",
              "          data: base64,\n",
              "        },\n",
              "      };\n",
              "\n",
              "      let percentDone = fileData.byteLength === 0 ?\n",
              "          100 :\n",
              "          Math.round((position / fileData.byteLength) * 100);\n",
              "      percent.textContent = `${percentDone}% done`;\n",
              "\n",
              "    } while (position < fileData.byteLength);\n",
              "  }\n",
              "\n",
              "  // All done.\n",
              "  yield {\n",
              "    response: {\n",
              "      action: 'complete',\n",
              "    }\n",
              "  };\n",
              "}\n",
              "\n",
              "scope.google = scope.google || {};\n",
              "scope.google.colab = scope.google.colab || {};\n",
              "scope.google.colab._files = {\n",
              "  _uploadFiles,\n",
              "  _uploadFilesContinue,\n",
              "};\n",
              "})(self);\n",
              "</script> "
            ]
          },
          "metadata": {}
        },
        {
          "output_type": "stream",
          "name": "stdout",
          "text": [
            "Saving kaggle.json to kaggle.json\n"
          ]
        },
        {
          "output_type": "execute_result",
          "data": {
            "text/plain": [
              "{'kaggle.json': b'{\"username\":\"bayessensei\",\"key\":\"f62e3ca565c7434ab849573c389c6451\"}'}"
            ]
          },
          "metadata": {},
          "execution_count": 2
        }
      ]
    },
    {
      "cell_type": "code",
      "source": [
        "!mkdir -p ~/.kaggle\n",
        "!cp kaggle.json ~/.kaggle/"
      ],
      "metadata": {
        "id": "zrIaScv0wF3m"
      },
      "execution_count": 3,
      "outputs": []
    },
    {
      "cell_type": "code",
      "source": [
        "!ls ~/.kaggle"
      ],
      "metadata": {
        "colab": {
          "base_uri": "https://localhost:8080/"
        },
        "id": "b6Hw7GHrwPeJ",
        "outputId": "ad60efbd-162b-43f6-a31a-9fa34d15da14"
      },
      "execution_count": 4,
      "outputs": [
        {
          "output_type": "stream",
          "name": "stdout",
          "text": [
            "kaggle.json\n"
          ]
        }
      ]
    },
    {
      "cell_type": "code",
      "source": [
        "!chmod 600 ~/.kaggle/kaggle.json\n"
      ],
      "metadata": {
        "id": "gKg7tsVowQ4v"
      },
      "execution_count": 5,
      "outputs": []
    },
    {
      "cell_type": "code",
      "source": [
        "!kaggle datasets download -d arashnic/learn-time-series-forecasting-from-gold-price"
      ],
      "metadata": {
        "colab": {
          "base_uri": "https://localhost:8080/"
        },
        "id": "gNjpeuy8wT8D",
        "outputId": "754a077e-79b7-41c3-abb2-71bd46f2b61f"
      },
      "execution_count": 6,
      "outputs": [
        {
          "output_type": "stream",
          "name": "stdout",
          "text": [
            "Downloading learn-time-series-forecasting-from-gold-price.zip to /content\n",
            "\r  0% 0.00/48.6k [00:00<?, ?B/s]\n",
            "\r100% 48.6k/48.6k [00:00<00:00, 50.8MB/s]\n"
          ]
        }
      ]
    },
    {
      "cell_type": "code",
      "source": [
        "!unzip learn-time-series-forecasting-from-gold-price"
      ],
      "metadata": {
        "colab": {
          "base_uri": "https://localhost:8080/"
        },
        "id": "nbK1xJ27xFZi",
        "outputId": "8aad262d-a3e8-423b-a0b3-4e321269ef25"
      },
      "execution_count": 7,
      "outputs": [
        {
          "output_type": "stream",
          "name": "stdout",
          "text": [
            "Archive:  learn-time-series-forecasting-from-gold-price.zip\n",
            "  inflating: gold_price_data.csv     \n"
          ]
        }
      ]
    },
    {
      "cell_type": "code",
      "source": [
        "!ls"
      ],
      "metadata": {
        "colab": {
          "base_uri": "https://localhost:8080/"
        },
        "id": "wcj91W09xHR0",
        "outputId": "e39ecb78-1b1a-4788-e26e-bf4d6cf381c3"
      },
      "execution_count": 8,
      "outputs": [
        {
          "output_type": "stream",
          "name": "stdout",
          "text": [
            "gold_price_data.csv  kaggle.json  learn-time-series-forecasting-from-gold-price.zip  sample_data\n"
          ]
        }
      ]
    },
    {
      "cell_type": "markdown",
      "source": [
        "#Library"
      ],
      "metadata": {
        "id": "_qZRhqnUpBMS"
      }
    },
    {
      "cell_type": "code",
      "source": [
        "import pandas as pd\n",
        "from keras.models import Sequential\n",
        "from keras.layers import LSTM, Dense, Dropout\n",
        "from sklearn.preprocessing import MinMaxScaler\n",
        "from sklearn.model_selection import train_test_split\n",
        "from keras.optimizers import Adam,SGD\n",
        "import numpy as np\n",
        "import matplotlib.pyplot as plt\n",
        "import tensorflow as tf\n",
        "from keras.callbacks import Callback"
      ],
      "metadata": {
        "id": "86rI3aWDIddq"
      },
      "execution_count": 9,
      "outputs": []
    },
    {
      "cell_type": "markdown",
      "source": [
        "#Data Preprocessing"
      ],
      "metadata": {
        "id": "6DlYUk1vxbJI"
      }
    },
    {
      "cell_type": "markdown",
      "source": [
        "This data is about the price of gold from 1970 to 2020 in USD"
      ],
      "metadata": {
        "id": "wtIs_ItNRVH7"
      }
    },
    {
      "cell_type": "code",
      "source": [
        "data = pd.read_csv('/content/gold_price_data.csv')\n",
        "data.head()"
      ],
      "metadata": {
        "colab": {
          "base_uri": "https://localhost:8080/",
          "height": 206
        },
        "id": "_pzt7mTDxZrN",
        "outputId": "3b0c72a4-36b6-428a-cc4e-dd515c8b92ae"
      },
      "execution_count": 10,
      "outputs": [
        {
          "output_type": "execute_result",
          "data": {
            "text/plain": [
              "         Date  Value\n",
              "0  1970-01-01   35.2\n",
              "1  1970-04-01   35.1\n",
              "2  1970-07-01   35.4\n",
              "3  1970-10-01   36.2\n",
              "4  1971-01-01   37.4"
            ],
            "text/html": [
              "\n",
              "  <div id=\"df-7558dc34-9fc0-4be6-9056-879311e3fea0\" class=\"colab-df-container\">\n",
              "    <div>\n",
              "<style scoped>\n",
              "    .dataframe tbody tr th:only-of-type {\n",
              "        vertical-align: middle;\n",
              "    }\n",
              "\n",
              "    .dataframe tbody tr th {\n",
              "        vertical-align: top;\n",
              "    }\n",
              "\n",
              "    .dataframe thead th {\n",
              "        text-align: right;\n",
              "    }\n",
              "</style>\n",
              "<table border=\"1\" class=\"dataframe\">\n",
              "  <thead>\n",
              "    <tr style=\"text-align: right;\">\n",
              "      <th></th>\n",
              "      <th>Date</th>\n",
              "      <th>Value</th>\n",
              "    </tr>\n",
              "  </thead>\n",
              "  <tbody>\n",
              "    <tr>\n",
              "      <th>0</th>\n",
              "      <td>1970-01-01</td>\n",
              "      <td>35.2</td>\n",
              "    </tr>\n",
              "    <tr>\n",
              "      <th>1</th>\n",
              "      <td>1970-04-01</td>\n",
              "      <td>35.1</td>\n",
              "    </tr>\n",
              "    <tr>\n",
              "      <th>2</th>\n",
              "      <td>1970-07-01</td>\n",
              "      <td>35.4</td>\n",
              "    </tr>\n",
              "    <tr>\n",
              "      <th>3</th>\n",
              "      <td>1970-10-01</td>\n",
              "      <td>36.2</td>\n",
              "    </tr>\n",
              "    <tr>\n",
              "      <th>4</th>\n",
              "      <td>1971-01-01</td>\n",
              "      <td>37.4</td>\n",
              "    </tr>\n",
              "  </tbody>\n",
              "</table>\n",
              "</div>\n",
              "    <div class=\"colab-df-buttons\">\n",
              "\n",
              "  <div class=\"colab-df-container\">\n",
              "    <button class=\"colab-df-convert\" onclick=\"convertToInteractive('df-7558dc34-9fc0-4be6-9056-879311e3fea0')\"\n",
              "            title=\"Convert this dataframe to an interactive table.\"\n",
              "            style=\"display:none;\">\n",
              "\n",
              "  <svg xmlns=\"http://www.w3.org/2000/svg\" height=\"24px\" viewBox=\"0 -960 960 960\">\n",
              "    <path d=\"M120-120v-720h720v720H120Zm60-500h600v-160H180v160Zm220 220h160v-160H400v160Zm0 220h160v-160H400v160ZM180-400h160v-160H180v160Zm440 0h160v-160H620v160ZM180-180h160v-160H180v160Zm440 0h160v-160H620v160Z\"/>\n",
              "  </svg>\n",
              "    </button>\n",
              "\n",
              "  <style>\n",
              "    .colab-df-container {\n",
              "      display:flex;\n",
              "      gap: 12px;\n",
              "    }\n",
              "\n",
              "    .colab-df-convert {\n",
              "      background-color: #E8F0FE;\n",
              "      border: none;\n",
              "      border-radius: 50%;\n",
              "      cursor: pointer;\n",
              "      display: none;\n",
              "      fill: #1967D2;\n",
              "      height: 32px;\n",
              "      padding: 0 0 0 0;\n",
              "      width: 32px;\n",
              "    }\n",
              "\n",
              "    .colab-df-convert:hover {\n",
              "      background-color: #E2EBFA;\n",
              "      box-shadow: 0px 1px 2px rgba(60, 64, 67, 0.3), 0px 1px 3px 1px rgba(60, 64, 67, 0.15);\n",
              "      fill: #174EA6;\n",
              "    }\n",
              "\n",
              "    .colab-df-buttons div {\n",
              "      margin-bottom: 4px;\n",
              "    }\n",
              "\n",
              "    [theme=dark] .colab-df-convert {\n",
              "      background-color: #3B4455;\n",
              "      fill: #D2E3FC;\n",
              "    }\n",
              "\n",
              "    [theme=dark] .colab-df-convert:hover {\n",
              "      background-color: #434B5C;\n",
              "      box-shadow: 0px 1px 3px 1px rgba(0, 0, 0, 0.15);\n",
              "      filter: drop-shadow(0px 1px 2px rgba(0, 0, 0, 0.3));\n",
              "      fill: #FFFFFF;\n",
              "    }\n",
              "  </style>\n",
              "\n",
              "    <script>\n",
              "      const buttonEl =\n",
              "        document.querySelector('#df-7558dc34-9fc0-4be6-9056-879311e3fea0 button.colab-df-convert');\n",
              "      buttonEl.style.display =\n",
              "        google.colab.kernel.accessAllowed ? 'block' : 'none';\n",
              "\n",
              "      async function convertToInteractive(key) {\n",
              "        const element = document.querySelector('#df-7558dc34-9fc0-4be6-9056-879311e3fea0');\n",
              "        const dataTable =\n",
              "          await google.colab.kernel.invokeFunction('convertToInteractive',\n",
              "                                                    [key], {});\n",
              "        if (!dataTable) return;\n",
              "\n",
              "        const docLinkHtml = 'Like what you see? Visit the ' +\n",
              "          '<a target=\"_blank\" href=https://colab.research.google.com/notebooks/data_table.ipynb>data table notebook</a>'\n",
              "          + ' to learn more about interactive tables.';\n",
              "        element.innerHTML = '';\n",
              "        dataTable['output_type'] = 'display_data';\n",
              "        await google.colab.output.renderOutput(dataTable, element);\n",
              "        const docLink = document.createElement('div');\n",
              "        docLink.innerHTML = docLinkHtml;\n",
              "        element.appendChild(docLink);\n",
              "      }\n",
              "    </script>\n",
              "  </div>\n",
              "\n",
              "\n",
              "<div id=\"df-c414a13d-4f1b-47cc-ab1e-13ec2470acf9\">\n",
              "  <button class=\"colab-df-quickchart\" onclick=\"quickchart('df-c414a13d-4f1b-47cc-ab1e-13ec2470acf9')\"\n",
              "            title=\"Suggest charts\"\n",
              "            style=\"display:none;\">\n",
              "\n",
              "<svg xmlns=\"http://www.w3.org/2000/svg\" height=\"24px\"viewBox=\"0 0 24 24\"\n",
              "     width=\"24px\">\n",
              "    <g>\n",
              "        <path d=\"M19 3H5c-1.1 0-2 .9-2 2v14c0 1.1.9 2 2 2h14c1.1 0 2-.9 2-2V5c0-1.1-.9-2-2-2zM9 17H7v-7h2v7zm4 0h-2V7h2v10zm4 0h-2v-4h2v4z\"/>\n",
              "    </g>\n",
              "</svg>\n",
              "  </button>\n",
              "\n",
              "<style>\n",
              "  .colab-df-quickchart {\n",
              "      --bg-color: #E8F0FE;\n",
              "      --fill-color: #1967D2;\n",
              "      --hover-bg-color: #E2EBFA;\n",
              "      --hover-fill-color: #174EA6;\n",
              "      --disabled-fill-color: #AAA;\n",
              "      --disabled-bg-color: #DDD;\n",
              "  }\n",
              "\n",
              "  [theme=dark] .colab-df-quickchart {\n",
              "      --bg-color: #3B4455;\n",
              "      --fill-color: #D2E3FC;\n",
              "      --hover-bg-color: #434B5C;\n",
              "      --hover-fill-color: #FFFFFF;\n",
              "      --disabled-bg-color: #3B4455;\n",
              "      --disabled-fill-color: #666;\n",
              "  }\n",
              "\n",
              "  .colab-df-quickchart {\n",
              "    background-color: var(--bg-color);\n",
              "    border: none;\n",
              "    border-radius: 50%;\n",
              "    cursor: pointer;\n",
              "    display: none;\n",
              "    fill: var(--fill-color);\n",
              "    height: 32px;\n",
              "    padding: 0;\n",
              "    width: 32px;\n",
              "  }\n",
              "\n",
              "  .colab-df-quickchart:hover {\n",
              "    background-color: var(--hover-bg-color);\n",
              "    box-shadow: 0 1px 2px rgba(60, 64, 67, 0.3), 0 1px 3px 1px rgba(60, 64, 67, 0.15);\n",
              "    fill: var(--button-hover-fill-color);\n",
              "  }\n",
              "\n",
              "  .colab-df-quickchart-complete:disabled,\n",
              "  .colab-df-quickchart-complete:disabled:hover {\n",
              "    background-color: var(--disabled-bg-color);\n",
              "    fill: var(--disabled-fill-color);\n",
              "    box-shadow: none;\n",
              "  }\n",
              "\n",
              "  .colab-df-spinner {\n",
              "    border: 2px solid var(--fill-color);\n",
              "    border-color: transparent;\n",
              "    border-bottom-color: var(--fill-color);\n",
              "    animation:\n",
              "      spin 1s steps(1) infinite;\n",
              "  }\n",
              "\n",
              "  @keyframes spin {\n",
              "    0% {\n",
              "      border-color: transparent;\n",
              "      border-bottom-color: var(--fill-color);\n",
              "      border-left-color: var(--fill-color);\n",
              "    }\n",
              "    20% {\n",
              "      border-color: transparent;\n",
              "      border-left-color: var(--fill-color);\n",
              "      border-top-color: var(--fill-color);\n",
              "    }\n",
              "    30% {\n",
              "      border-color: transparent;\n",
              "      border-left-color: var(--fill-color);\n",
              "      border-top-color: var(--fill-color);\n",
              "      border-right-color: var(--fill-color);\n",
              "    }\n",
              "    40% {\n",
              "      border-color: transparent;\n",
              "      border-right-color: var(--fill-color);\n",
              "      border-top-color: var(--fill-color);\n",
              "    }\n",
              "    60% {\n",
              "      border-color: transparent;\n",
              "      border-right-color: var(--fill-color);\n",
              "    }\n",
              "    80% {\n",
              "      border-color: transparent;\n",
              "      border-right-color: var(--fill-color);\n",
              "      border-bottom-color: var(--fill-color);\n",
              "    }\n",
              "    90% {\n",
              "      border-color: transparent;\n",
              "      border-bottom-color: var(--fill-color);\n",
              "    }\n",
              "  }\n",
              "</style>\n",
              "\n",
              "  <script>\n",
              "    async function quickchart(key) {\n",
              "      const quickchartButtonEl =\n",
              "        document.querySelector('#' + key + ' button');\n",
              "      quickchartButtonEl.disabled = true;  // To prevent multiple clicks.\n",
              "      quickchartButtonEl.classList.add('colab-df-spinner');\n",
              "      try {\n",
              "        const charts = await google.colab.kernel.invokeFunction(\n",
              "            'suggestCharts', [key], {});\n",
              "      } catch (error) {\n",
              "        console.error('Error during call to suggestCharts:', error);\n",
              "      }\n",
              "      quickchartButtonEl.classList.remove('colab-df-spinner');\n",
              "      quickchartButtonEl.classList.add('colab-df-quickchart-complete');\n",
              "    }\n",
              "    (() => {\n",
              "      let quickchartButtonEl =\n",
              "        document.querySelector('#df-c414a13d-4f1b-47cc-ab1e-13ec2470acf9 button');\n",
              "      quickchartButtonEl.style.display =\n",
              "        google.colab.kernel.accessAllowed ? 'block' : 'none';\n",
              "    })();\n",
              "  </script>\n",
              "</div>\n",
              "    </div>\n",
              "  </div>\n"
            ]
          },
          "metadata": {},
          "execution_count": 10
        }
      ]
    },
    {
      "cell_type": "code",
      "source": [
        "data.isnull().sum()"
      ],
      "metadata": {
        "colab": {
          "base_uri": "https://localhost:8080/"
        },
        "id": "VOvBmDeNxrjG",
        "outputId": "d75c768e-f6df-42b0-d141-17b0758081f8"
      },
      "execution_count": 11,
      "outputs": [
        {
          "output_type": "execute_result",
          "data": {
            "text/plain": [
              "Date     0\n",
              "Value    0\n",
              "dtype: int64"
            ]
          },
          "metadata": {},
          "execution_count": 11
        }
      ]
    },
    {
      "cell_type": "markdown",
      "source": [
        "there is no missing value in data"
      ],
      "metadata": {
        "id": "SA8I08NCRdRH"
      }
    },
    {
      "cell_type": "code",
      "source": [
        "dates = data['Date'].values\n",
        "price  = data['Value'].values.reshape(-1, 1)\n",
        "\n",
        "\n",
        "plt.figure(figsize=(15,5))\n",
        "plt.plot(dates, price)\n",
        "plt.title('Gold Price (USD)',fontsize=20)\n",
        "plt.xlabel('Date', fontsize=14)\n",
        "plt.ylabel('Price (USD)', fontsize=14)\n",
        "plt.show()"
      ],
      "metadata": {
        "colab": {
          "base_uri": "https://localhost:8080/",
          "height": 440
        },
        "id": "060gH5EryHi7",
        "outputId": "8a2bc532-5920-4db8-adb2-697f21132b44"
      },
      "execution_count": 28,
      "outputs": [
        {
          "output_type": "display_data",
          "data": {
            "text/plain": [
              "<Figure size 1500x500 with 1 Axes>"
            ],
            "image/png": "[encoded data removed]"
          },
          "metadata": {}
        }
      ]
    },
    {
      "cell_type": "markdown",
      "source": [
        "##Data Scaling"
      ],
      "metadata": {
        "id": "6nY84AlUPwEd"
      }
    },
    {
      "cell_type": "code",
      "source": [
        "scaler = MinMaxScaler(feature_range=(0, 1))\n",
        "price_scaled = scaler.fit_transform(price)"
      ],
      "metadata": {
        "id": "2q69dD7VIXqF"
      },
      "execution_count": 13,
      "outputs": []
    },
    {
      "cell_type": "code",
      "source": [
        "len(price_scaled)"
      ],
      "metadata": {
        "colab": {
          "base_uri": "https://localhost:8080/"
        },
        "id": "-ZqxIDcTI5eC",
        "outputId": "2dfd8c03-b376-454d-f906-dd38d87dcaed"
      },
      "execution_count": 14,
      "outputs": [
        {
          "output_type": "execute_result",
          "data": {
            "text/plain": [
              "10787"
            ]
          },
          "metadata": {},
          "execution_count": 14
        }
      ]
    },
    {
      "cell_type": "markdown",
      "source": [
        "##Data Splitting"
      ],
      "metadata": {
        "id": "ZYDS3ne9pVIA"
      }
    },
    {
      "cell_type": "code",
      "source": [
        "train_data, validation_data = train_test_split(price_scaled, test_size=0.2, shuffle=False)\n",
        "len(train_data)\n"
      ],
      "metadata": {
        "colab": {
          "base_uri": "https://localhost:8080/"
        },
        "id": "ZqzcNFFpI5EQ",
        "outputId": "c6ea8bbc-3cc5-4aa1-abb0-9f3ac30cfcfc"
      },
      "execution_count": 15,
      "outputs": [
        {
          "output_type": "execute_result",
          "data": {
            "text/plain": [
              "8629"
            ]
          },
          "metadata": {},
          "execution_count": 15
        }
      ]
    },
    {
      "cell_type": "code",
      "source": [
        "len(validation_data)"
      ],
      "metadata": {
        "colab": {
          "base_uri": "https://localhost:8080/"
        },
        "id": "ylvLPvHQJDKU",
        "outputId": "a4300639-9dbc-418a-c75a-07beb4b56138"
      },
      "execution_count": 16,
      "outputs": [
        {
          "output_type": "execute_result",
          "data": {
            "text/plain": [
              "2158"
            ]
          },
          "metadata": {},
          "execution_count": 16
        }
      ]
    },
    {
      "cell_type": "markdown",
      "source": [
        "#Dataset Generation"
      ],
      "metadata": {
        "id": "yfMOJYBSpaWK"
      }
    },
    {
      "cell_type": "code",
      "source": [
        "def create_dataset(data, time_step=1):\n",
        "    X, Y = [], []\n",
        "    for i in range(len(data)-time_step-1):\n",
        "        a = data[i:(i+time_step), 0]\n",
        "        X.append(a)\n",
        "        Y.append(data[i + time_step, 0])\n",
        "    return np.array(X), np.array(Y)"
      ],
      "metadata": {
        "id": "A-9GEoKoyv5Y"
      },
      "execution_count": 17,
      "outputs": []
    },
    {
      "cell_type": "code",
      "source": [
        "time_step = 24\n",
        "X_train, y_train = create_dataset(train_data, time_step)\n",
        "X_val, y_val = create_dataset(validation_data, time_step)\n",
        "\n",
        "\n",
        "X_train = X_train.reshape(X_train.shape[0], X_train.shape[1], 1)\n",
        "X_val = X_val.reshape(X_val.shape[0], X_val.shape[1], 1)\n"
      ],
      "metadata": {
        "id": "e6UD6SMxMlvc"
      },
      "execution_count": 18,
      "outputs": []
    },
    {
      "cell_type": "markdown",
      "source": [
        "#Model"
      ],
      "metadata": {
        "id": "tINFWcVDppZW"
      }
    },
    {
      "cell_type": "markdown",
      "source": [
        "##Callback"
      ],
      "metadata": {
        "id": "x0pEFk09prj6"
      }
    },
    {
      "cell_type": "markdown",
      "source": [
        "Callback will stop the training when validation mean absolute erorr < 10% data scale"
      ],
      "metadata": {
        "id": "xbg44HcSSCWo"
      }
    },
    {
      "cell_type": "code",
      "source": [
        "threshold_mae = (price_scaled.max() - price_scaled.min()) * 0.1\n",
        "threshold_mae"
      ],
      "metadata": {
        "colab": {
          "base_uri": "https://localhost:8080/"
        },
        "id": "9-3OIiHNP9jM",
        "outputId": "d1ffadf5-db98-4fcb-ce3d-9e877da1bae1"
      },
      "execution_count": 19,
      "outputs": [
        {
          "output_type": "execute_result",
          "data": {
            "text/plain": [
              "0.1"
            ]
          },
          "metadata": {},
          "execution_count": 19
        }
      ]
    },
    {
      "cell_type": "code",
      "source": [
        "class MyThresholdCallback(Callback):\n",
        "    def on_epoch_end(self, epoch, logs={}):\n",
        "        if(logs.get('val_mae') < threshold_mae):\n",
        "            print(\"\\nMAE telah mencapai kurang dari 10% skala data. Menghentikan pelatihan...\")\n",
        "            self.model.stop_training = True\n",
        "\n",
        "# Menambahkan callback\n",
        "callbacks = [MyThresholdCallback()]"
      ],
      "metadata": {
        "id": "xiMjYKiCieUo"
      },
      "execution_count": 20,
      "outputs": []
    },
    {
      "cell_type": "markdown",
      "source": [
        "##Model Architecture"
      ],
      "metadata": {
        "id": "pOAiUZmopzys"
      }
    },
    {
      "cell_type": "code",
      "source": [
        "model = Sequential()\n",
        "model.add(LSTM(50, return_sequences=True, input_shape=(time_step,1)))\n",
        "model.add(LSTM(50, return_sequences=False))\n",
        "model.add(Dense(25))\n",
        "model.add(Dense(1))"
      ],
      "metadata": {
        "id": "s8VBkPeEPywN"
      },
      "execution_count": 21,
      "outputs": []
    },
    {
      "cell_type": "code",
      "source": [
        "optimizer = SGD(learning_rate=0.0001, momentum=0.5)\n",
        "model.compile(optimizer=optimizer, loss='mean_squared_error', metrics=['mae'])\n"
      ],
      "metadata": {
        "id": "j9PCyy9PzvvG"
      },
      "execution_count": 22,
      "outputs": []
    },
    {
      "cell_type": "markdown",
      "source": [
        "#Data Training"
      ],
      "metadata": {
        "id": "pX7mkLmIp5t2"
      }
    },
    {
      "cell_type": "code",
      "source": [
        "history=model.fit(X_train, y_train, validation_data=(X_val, y_val), epochs=200, batch_size=32, callbacks=[callbacks])"
      ],
      "metadata": {
        "colab": {
          "base_uri": "https://localhost:8080/"
        },
        "id": "n_FJKbyO1uYg",
        "outputId": "bef66049-c213-4289-e10f-7dbe87db74a7"
      },
      "execution_count": 23,
      "outputs": [
        {
          "output_type": "stream",
          "name": "stdout",
          "text": [
            "Epoch 1/200\n",
            "269/269 [==============================] - 9s 10ms/step - loss: 0.0574 - mae: 0.1849 - val_loss: 0.3503 - val_mae: 0.5852\n",
            "Epoch 2/200\n",
            "269/269 [==============================] - 2s 8ms/step - loss: 0.0325 - mae: 0.1064 - val_loss: 0.2751 - val_mae: 0.5172\n",
            "Epoch 3/200\n",
            "269/269 [==============================] - 2s 8ms/step - loss: 0.0242 - mae: 0.0807 - val_loss: 0.2349 - val_mae: 0.4770\n",
            "Epoch 4/200\n",
            "269/269 [==============================] - 2s 8ms/step - loss: 0.0214 - mae: 0.0823 - val_loss: 0.2127 - val_mae: 0.4533\n",
            "Epoch 5/200\n",
            "269/269 [==============================] - 4s 16ms/step - loss: 0.0204 - mae: 0.0871 - val_loss: 0.1995 - val_mae: 0.4386\n",
            "Epoch 6/200\n",
            "269/269 [==============================] - 4s 14ms/step - loss: 0.0199 - mae: 0.0906 - val_loss: 0.1913 - val_mae: 0.4292\n",
            "Epoch 7/200\n",
            "269/269 [==============================] - 4s 16ms/step - loss: 0.0195 - mae: 0.0921 - val_loss: 0.1854 - val_mae: 0.4225\n",
            "Epoch 8/200\n",
            "269/269 [==============================] - 5s 17ms/step - loss: 0.0192 - mae: 0.0929 - val_loss: 0.1812 - val_mae: 0.4176\n",
            "Epoch 9/200\n",
            "269/269 [==============================] - 4s 14ms/step - loss: 0.0189 - mae: 0.0929 - val_loss: 0.1777 - val_mae: 0.4135\n",
            "Epoch 10/200\n",
            "269/269 [==============================] - 4s 14ms/step - loss: 0.0186 - mae: 0.0925 - val_loss: 0.1746 - val_mae: 0.4098\n",
            "Epoch 11/200\n",
            "269/269 [==============================] - 2s 8ms/step - loss: 0.0184 - mae: 0.0921 - val_loss: 0.1716 - val_mae: 0.4063\n",
            "Epoch 12/200\n",
            "269/269 [==============================] - 2s 9ms/step - loss: 0.0181 - mae: 0.0914 - val_loss: 0.1688 - val_mae: 0.4029\n",
            "Epoch 13/200\n",
            "269/269 [==============================] - 3s 10ms/step - loss: 0.0178 - mae: 0.0911 - val_loss: 0.1663 - val_mae: 0.3999\n",
            "Epoch 14/200\n",
            "269/269 [==============================] - 2s 8ms/step - loss: 0.0176 - mae: 0.0902 - val_loss: 0.1635 - val_mae: 0.3965\n",
            "Epoch 15/200\n",
            "269/269 [==============================] - 2s 8ms/step - loss: 0.0173 - mae: 0.0897 - val_loss: 0.1610 - val_mae: 0.3934\n",
            "Epoch 16/200\n",
            "269/269 [==============================] - 2s 8ms/step - loss: 0.0170 - mae: 0.0889 - val_loss: 0.1583 - val_mae: 0.3902\n",
            "Epoch 17/200\n",
            "269/269 [==============================] - 2s 8ms/step - loss: 0.0168 - mae: 0.0884 - val_loss: 0.1559 - val_mae: 0.3872\n",
            "Epoch 18/200\n",
            "269/269 [==============================] - 2s 9ms/step - loss: 0.0165 - mae: 0.0875 - val_loss: 0.1533 - val_mae: 0.3839\n",
            "Epoch 19/200\n",
            "269/269 [==============================] - 3s 9ms/step - loss: 0.0163 - mae: 0.0868 - val_loss: 0.1507 - val_mae: 0.3806\n",
            "Epoch 20/200\n",
            "269/269 [==============================] - 2s 8ms/step - loss: 0.0160 - mae: 0.0863 - val_loss: 0.1482 - val_mae: 0.3775\n",
            "Epoch 21/200\n",
            "269/269 [==============================] - 2s 8ms/step - loss: 0.0157 - mae: 0.0857 - val_loss: 0.1459 - val_mae: 0.3745\n",
            "Epoch 22/200\n",
            "269/269 [==============================] - 2s 8ms/step - loss: 0.0155 - mae: 0.0850 - val_loss: 0.1436 - val_mae: 0.3715\n",
            "Epoch 23/200\n",
            "269/269 [==============================] - 2s 8ms/step - loss: 0.0152 - mae: 0.0843 - val_loss: 0.1412 - val_mae: 0.3685\n",
            "Epoch 24/200\n",
            "269/269 [==============================] - 3s 9ms/step - loss: 0.0150 - mae: 0.0836 - val_loss: 0.1389 - val_mae: 0.3654\n",
            "Epoch 25/200\n",
            "269/269 [==============================] - 2s 9ms/step - loss: 0.0147 - mae: 0.0828 - val_loss: 0.1365 - val_mae: 0.3622\n",
            "Epoch 26/200\n",
            "269/269 [==============================] - 2s 8ms/step - loss: 0.0145 - mae: 0.0821 - val_loss: 0.1341 - val_mae: 0.3590\n",
            "Epoch 27/200\n",
            "269/269 [==============================] - 2s 8ms/step - loss: 0.0143 - mae: 0.0816 - val_loss: 0.1318 - val_mae: 0.3559\n",
            "Epoch 28/200\n",
            "269/269 [==============================] - 2s 8ms/step - loss: 0.0140 - mae: 0.0808 - val_loss: 0.1295 - val_mae: 0.3527\n",
            "Epoch 29/200\n",
            "269/269 [==============================] - 2s 8ms/step - loss: 0.0138 - mae: 0.0800 - val_loss: 0.1271 - val_mae: 0.3495\n",
            "Epoch 30/200\n",
            "269/269 [==============================] - 3s 10ms/step - loss: 0.0135 - mae: 0.0793 - val_loss: 0.1248 - val_mae: 0.3462\n",
            "Epoch 31/200\n",
            "269/269 [==============================] - 2s 9ms/step - loss: 0.0133 - mae: 0.0786 - val_loss: 0.1224 - val_mae: 0.3429\n",
            "Epoch 32/200\n",
            "269/269 [==============================] - 2s 8ms/step - loss: 0.0130 - mae: 0.0781 - val_loss: 0.1202 - val_mae: 0.3398\n",
            "Epoch 33/200\n",
            "269/269 [==============================] - 2s 8ms/step - loss: 0.0128 - mae: 0.0772 - val_loss: 0.1179 - val_mae: 0.3365\n",
            "Epoch 34/200\n",
            "269/269 [==============================] - 2s 8ms/step - loss: 0.0126 - mae: 0.0766 - val_loss: 0.1157 - val_mae: 0.3334\n",
            "Epoch 35/200\n",
            "269/269 [==============================] - 2s 8ms/step - loss: 0.0123 - mae: 0.0759 - val_loss: 0.1135 - val_mae: 0.3302\n",
            "Epoch 36/200\n",
            "269/269 [==============================] - 3s 11ms/step - loss: 0.0121 - mae: 0.0750 - val_loss: 0.1112 - val_mae: 0.3268\n",
            "Epoch 37/200\n",
            "269/269 [==============================] - 2s 8ms/step - loss: 0.0119 - mae: 0.0745 - val_loss: 0.1091 - val_mae: 0.3236\n",
            "Epoch 38/200\n",
            "269/269 [==============================] - 2s 8ms/step - loss: 0.0116 - mae: 0.0737 - val_loss: 0.1069 - val_mae: 0.3204\n",
            "Epoch 39/200\n",
            "269/269 [==============================] - 2s 7ms/step - loss: 0.0114 - mae: 0.0730 - val_loss: 0.1048 - val_mae: 0.3172\n",
            "Epoch 40/200\n",
            "269/269 [==============================] - 2s 7ms/step - loss: 0.0112 - mae: 0.0722 - val_loss: 0.1027 - val_mae: 0.3139\n",
            "Epoch 41/200\n",
            "269/269 [==============================] - 2s 8ms/step - loss: 0.0110 - mae: 0.0714 - val_loss: 0.1005 - val_mae: 0.3105\n",
            "Epoch 42/200\n",
            "269/269 [==============================] - 3s 10ms/step - loss: 0.0107 - mae: 0.0708 - val_loss: 0.0984 - val_mae: 0.3073\n",
            "Epoch 43/200\n",
            "269/269 [==============================] - 2s 8ms/step - loss: 0.0105 - mae: 0.0701 - val_loss: 0.0964 - val_mae: 0.3041\n",
            "Epoch 44/200\n",
            "269/269 [==============================] - 2s 7ms/step - loss: 0.0103 - mae: 0.0693 - val_loss: 0.0943 - val_mae: 0.3008\n",
            "Epoch 45/200\n",
            "269/269 [==============================] - 2s 7ms/step - loss: 0.0101 - mae: 0.0685 - val_loss: 0.0923 - val_mae: 0.2975\n",
            "Epoch 46/200\n",
            "269/269 [==============================] - 2s 8ms/step - loss: 0.0099 - mae: 0.0678 - val_loss: 0.0902 - val_mae: 0.2941\n",
            "Epoch 47/200\n",
            "269/269 [==============================] - 2s 8ms/step - loss: 0.0096 - mae: 0.0669 - val_loss: 0.0881 - val_mae: 0.2906\n",
            "Epoch 48/200\n",
            "269/269 [==============================] - 3s 11ms/step - loss: 0.0094 - mae: 0.0663 - val_loss: 0.0860 - val_mae: 0.2872\n",
            "Epoch 49/200\n",
            "269/269 [==============================] - 2s 8ms/step - loss: 0.0092 - mae: 0.0656 - val_loss: 0.0840 - val_mae: 0.2839\n",
            "Epoch 50/200\n",
            "269/269 [==============================] - 3s 12ms/step - loss: 0.0090 - mae: 0.0651 - val_loss: 0.0823 - val_mae: 0.2808\n",
            "Epoch 51/200\n",
            "269/269 [==============================] - 2s 8ms/step - loss: 0.0088 - mae: 0.0640 - val_loss: 0.0803 - val_mae: 0.2774\n",
            "Epoch 52/200\n",
            "269/269 [==============================] - 2s 8ms/step - loss: 0.0086 - mae: 0.0631 - val_loss: 0.0782 - val_mae: 0.2738\n",
            "Epoch 53/200\n",
            "269/269 [==============================] - 3s 10ms/step - loss: 0.0084 - mae: 0.0627 - val_loss: 0.0764 - val_mae: 0.2707\n",
            "Epoch 54/200\n",
            "269/269 [==============================] - 2s 9ms/step - loss: 0.0082 - mae: 0.0619 - val_loss: 0.0746 - val_mae: 0.2673\n",
            "Epoch 55/200\n",
            "269/269 [==============================] - 2s 8ms/step - loss: 0.0080 - mae: 0.0609 - val_loss: 0.0726 - val_mae: 0.2637\n",
            "Epoch 56/200\n",
            "269/269 [==============================] - 2s 8ms/step - loss: 0.0078 - mae: 0.0603 - val_loss: 0.0708 - val_mae: 0.2604\n",
            "Epoch 57/200\n",
            "269/269 [==============================] - 2s 8ms/step - loss: 0.0076 - mae: 0.0595 - val_loss: 0.0690 - val_mae: 0.2570\n",
            "Epoch 58/200\n",
            "269/269 [==============================] - 2s 8ms/step - loss: 0.0074 - mae: 0.0587 - val_loss: 0.0671 - val_mae: 0.2534\n",
            "Epoch 59/200\n",
            "269/269 [==============================] - 3s 10ms/step - loss: 0.0072 - mae: 0.0581 - val_loss: 0.0655 - val_mae: 0.2503\n",
            "Epoch 60/200\n",
            "269/269 [==============================] - 2s 8ms/step - loss: 0.0070 - mae: 0.0572 - val_loss: 0.0637 - val_mae: 0.2469\n",
            "Epoch 61/200\n",
            "269/269 [==============================] - 2s 8ms/step - loss: 0.0069 - mae: 0.0564 - val_loss: 0.0620 - val_mae: 0.2435\n",
            "Epoch 62/200\n",
            "269/269 [==============================] - 2s 8ms/step - loss: 0.0067 - mae: 0.0557 - val_loss: 0.0602 - val_mae: 0.2400\n",
            "Epoch 63/200\n",
            "269/269 [==============================] - 2s 8ms/step - loss: 0.0065 - mae: 0.0549 - val_loss: 0.0585 - val_mae: 0.2366\n",
            "Epoch 64/200\n",
            "269/269 [==============================] - 4s 13ms/step - loss: 0.0063 - mae: 0.0541 - val_loss: 0.0568 - val_mae: 0.2330\n",
            "Epoch 65/200\n",
            "269/269 [==============================] - 2s 9ms/step - loss: 0.0061 - mae: 0.0535 - val_loss: 0.0552 - val_mae: 0.2298\n",
            "Epoch 66/200\n",
            "269/269 [==============================] - 2s 8ms/step - loss: 0.0060 - mae: 0.0526 - val_loss: 0.0537 - val_mae: 0.2264\n",
            "Epoch 67/200\n",
            "269/269 [==============================] - 2s 8ms/step - loss: 0.0058 - mae: 0.0517 - val_loss: 0.0520 - val_mae: 0.2228\n",
            "Epoch 68/200\n",
            "269/269 [==============================] - 2s 8ms/step - loss: 0.0056 - mae: 0.0512 - val_loss: 0.0505 - val_mae: 0.2195\n",
            "Epoch 69/200\n",
            "269/269 [==============================] - 2s 8ms/step - loss: 0.0055 - mae: 0.0503 - val_loss: 0.0489 - val_mae: 0.2160\n",
            "Epoch 70/200\n",
            "269/269 [==============================] - 3s 11ms/step - loss: 0.0053 - mae: 0.0495 - val_loss: 0.0474 - val_mae: 0.2126\n",
            "Epoch 71/200\n",
            "269/269 [==============================] - 2s 9ms/step - loss: 0.0051 - mae: 0.0489 - val_loss: 0.0459 - val_mae: 0.2093\n",
            "Epoch 72/200\n",
            "269/269 [==============================] - 2s 8ms/step - loss: 0.0050 - mae: 0.0480 - val_loss: 0.0444 - val_mae: 0.2058\n",
            "Epoch 73/200\n",
            "269/269 [==============================] - 2s 8ms/step - loss: 0.0048 - mae: 0.0474 - val_loss: 0.0431 - val_mae: 0.2027\n",
            "Epoch 74/200\n",
            "269/269 [==============================] - 2s 7ms/step - loss: 0.0047 - mae: 0.0464 - val_loss: 0.0416 - val_mae: 0.1991\n",
            "Epoch 75/200\n",
            "269/269 [==============================] - 2s 8ms/step - loss: 0.0045 - mae: 0.0458 - val_loss: 0.0403 - val_mae: 0.1957\n",
            "Epoch 76/200\n",
            "269/269 [==============================] - 3s 11ms/step - loss: 0.0044 - mae: 0.0451 - val_loss: 0.0390 - val_mae: 0.1925\n",
            "Epoch 77/200\n",
            "269/269 [==============================] - 2s 8ms/step - loss: 0.0043 - mae: 0.0445 - val_loss: 0.0378 - val_mae: 0.1895\n",
            "Epoch 78/200\n",
            "269/269 [==============================] - 2s 8ms/step - loss: 0.0041 - mae: 0.0434 - val_loss: 0.0364 - val_mae: 0.1860\n",
            "Epoch 79/200\n",
            "269/269 [==============================] - 2s 8ms/step - loss: 0.0040 - mae: 0.0428 - val_loss: 0.0351 - val_mae: 0.1827\n",
            "Epoch 80/200\n",
            "269/269 [==============================] - 2s 8ms/step - loss: 0.0039 - mae: 0.0421 - val_loss: 0.0339 - val_mae: 0.1795\n",
            "Epoch 81/200\n",
            "269/269 [==============================] - 2s 8ms/step - loss: 0.0037 - mae: 0.0413 - val_loss: 0.0327 - val_mae: 0.1762\n",
            "Epoch 82/200\n",
            "269/269 [==============================] - 3s 11ms/step - loss: 0.0036 - mae: 0.0405 - val_loss: 0.0315 - val_mae: 0.1729\n",
            "Epoch 83/200\n",
            "269/269 [==============================] - 2s 8ms/step - loss: 0.0035 - mae: 0.0399 - val_loss: 0.0304 - val_mae: 0.1697\n",
            "Epoch 84/200\n",
            "269/269 [==============================] - 2s 8ms/step - loss: 0.0033 - mae: 0.0392 - val_loss: 0.0293 - val_mae: 0.1666\n",
            "Epoch 85/200\n",
            "269/269 [==============================] - 2s 8ms/step - loss: 0.0032 - mae: 0.0384 - val_loss: 0.0282 - val_mae: 0.1634\n",
            "Epoch 86/200\n",
            "269/269 [==============================] - 2s 7ms/step - loss: 0.0031 - mae: 0.0377 - val_loss: 0.0272 - val_mae: 0.1603\n",
            "Epoch 87/200\n",
            "269/269 [==============================] - 2s 9ms/step - loss: 0.0030 - mae: 0.0370 - val_loss: 0.0262 - val_mae: 0.1572\n",
            "Epoch 88/200\n",
            "269/269 [==============================] - 3s 10ms/step - loss: 0.0029 - mae: 0.0363 - val_loss: 0.0252 - val_mae: 0.1541\n",
            "Epoch 89/200\n",
            "269/269 [==============================] - 2s 8ms/step - loss: 0.0028 - mae: 0.0356 - val_loss: 0.0242 - val_mae: 0.1510\n",
            "Epoch 90/200\n",
            "269/269 [==============================] - 2s 8ms/step - loss: 0.0027 - mae: 0.0349 - val_loss: 0.0232 - val_mae: 0.1480\n",
            "Epoch 91/200\n",
            "269/269 [==============================] - 2s 8ms/step - loss: 0.0026 - mae: 0.0342 - val_loss: 0.0223 - val_mae: 0.1448\n",
            "Epoch 92/200\n",
            "269/269 [==============================] - 2s 8ms/step - loss: 0.0025 - mae: 0.0336 - val_loss: 0.0214 - val_mae: 0.1420\n",
            "Epoch 93/200\n",
            "269/269 [==============================] - 2s 9ms/step - loss: 0.0024 - mae: 0.0329 - val_loss: 0.0206 - val_mae: 0.1390\n",
            "Epoch 94/200\n",
            "269/269 [==============================] - 3s 10ms/step - loss: 0.0023 - mae: 0.0322 - val_loss: 0.0197 - val_mae: 0.1360\n",
            "Epoch 95/200\n",
            "269/269 [==============================] - 2s 8ms/step - loss: 0.0022 - mae: 0.0316 - val_loss: 0.0189 - val_mae: 0.1331\n",
            "Epoch 96/200\n",
            "269/269 [==============================] - 2s 8ms/step - loss: 0.0021 - mae: 0.0309 - val_loss: 0.0181 - val_mae: 0.1303\n",
            "Epoch 97/200\n",
            "269/269 [==============================] - 2s 8ms/step - loss: 0.0020 - mae: 0.0303 - val_loss: 0.0174 - val_mae: 0.1275\n",
            "Epoch 98/200\n",
            "269/269 [==============================] - 2s 8ms/step - loss: 0.0020 - mae: 0.0297 - val_loss: 0.0167 - val_mae: 0.1248\n",
            "Epoch 99/200\n",
            "269/269 [==============================] - 3s 9ms/step - loss: 0.0019 - mae: 0.0290 - val_loss: 0.0160 - val_mae: 0.1220\n",
            "Epoch 100/200\n",
            "269/269 [==============================] - 3s 10ms/step - loss: 0.0018 - mae: 0.0284 - val_loss: 0.0153 - val_mae: 0.1193\n",
            "Epoch 101/200\n",
            "269/269 [==============================] - 2s 8ms/step - loss: 0.0017 - mae: 0.0277 - val_loss: 0.0146 - val_mae: 0.1164\n",
            "Epoch 102/200\n",
            "269/269 [==============================] - 2s 8ms/step - loss: 0.0017 - mae: 0.0272 - val_loss: 0.0139 - val_mae: 0.1137\n",
            "Epoch 103/200\n",
            "269/269 [==============================] - 2s 8ms/step - loss: 0.0016 - mae: 0.0266 - val_loss: 0.0133 - val_mae: 0.1111\n",
            "Epoch 104/200\n",
            "269/269 [==============================] - 2s 8ms/step - loss: 0.0015 - mae: 0.0260 - val_loss: 0.0127 - val_mae: 0.1085\n",
            "Epoch 105/200\n",
            "269/269 [==============================] - 3s 10ms/step - loss: 0.0015 - mae: 0.0254 - val_loss: 0.0121 - val_mae: 0.1059\n",
            "Epoch 106/200\n",
            "269/269 [==============================] - 2s 9ms/step - loss: 0.0014 - mae: 0.0248 - val_loss: 0.0116 - val_mae: 0.1032\n",
            "Epoch 107/200\n",
            "269/269 [==============================] - 2s 8ms/step - loss: 0.0013 - mae: 0.0244 - val_loss: 0.0110 - val_mae: 0.1008\n",
            "Epoch 108/200\n",
            "268/269 [============================>.] - ETA: 0s - loss: 0.0013 - mae: 0.0238\n",
            "MAE telah mencapai kurang dari 10% skala data. Menghentikan pelatihan...\n",
            "269/269 [==============================] - 2s 8ms/step - loss: 0.0013 - mae: 0.0238 - val_loss: 0.0106 - val_mae: 0.0984\n"
          ]
        }
      ]
    },
    {
      "cell_type": "markdown",
      "source": [
        "#Result"
      ],
      "metadata": {
        "id": "Wd9kdmvyp9uD"
      }
    },
    {
      "cell_type": "code",
      "source": [
        "plt.figure(figsize=(15, 5))\n",
        "plt.subplot(1, 2, 1)\n",
        "plt.plot(history.history['loss'], label='Training Loss')\n",
        "plt.plot(history.history['val_loss'], label='Validation Loss')\n",
        "plt.title('Training and Validation Loss')\n",
        "plt.xlabel('Epoch')\n",
        "plt.ylabel('Loss')\n",
        "plt.legend()\n",
        "\n",
        "plt.subplot(1, 2, 2)\n",
        "plt.plot(history.history['mae'], label='Training MAE')\n",
        "plt.plot(history.history['val_mae'], label='Validation MAE')\n",
        "plt.title('Training and Validation MAE')\n",
        "plt.xlabel('Epoch')\n",
        "plt.ylabel('MAE')\n",
        "plt.legend()\n",
        "\n",
        "plt.tight_layout()\n",
        "plt.show()"
      ],
      "metadata": {
        "id": "0r9ZzUj01z_L",
        "colab": {
          "base_uri": "https://localhost:8080/",
          "height": 377
        },
        "outputId": "579a0ff8-8546-47e2-a7f1-57c930d2080c"
      },
      "execution_count": 24,
      "outputs": [
        {
          "output_type": "display_data",
          "data": {
            "text/plain": [
              "<Figure size 1500x500 with 2 Axes>"
            ],
            "image/png": "[encoded data removed]"
          },
          "metadata": {}
        }
      ]
    },
    {
      "cell_type": "code",
      "source": [
        "X_all, y_all = create_dataset(price_scaled, time_step)\n",
        "X_all = X_all.reshape(X_all.shape[0], X_all.shape[1], 1)\n",
        "\n",
        "\n",
        "predicted_all = model.predict(X_all)\n",
        "predicted_all = scaler.inverse_transform(predicted_all)\n",
        "\n",
        "actual_all = price[time_step+1:]\n",
        "\n",
        "plt.figure(figsize=(12,6))\n",
        "plt.plot(actual_all, label='Actual Price', color='blue')\n",
        "plt.plot(predicted_all, label='Prediction Price', color='red')\n",
        "plt.title('Actual and Prediction Comparison - All Period')\n",
        "plt.xlabel('Time')\n",
        "plt.ylabel('Price')\n",
        "plt.legend()\n",
        "plt.show()\n"
      ],
      "metadata": {
        "colab": {
          "base_uri": "https://localhost:8080/",
          "height": 582
        },
        "id": "l0jDee3tUVzL",
        "outputId": "3fd25567-5ba7-4230-bf83-2453e884e039"
      },
      "execution_count": 29,
      "outputs": [
        {
          "output_type": "stream",
          "name": "stdout",
          "text": [
            "337/337 [==============================] - 1s 3ms/step\n"
          ]
        },
        {
          "output_type": "display_data",
          "data": {
            "text/plain": [
              "<Figure size 1200x600 with 1 Axes>"
            ],
            "image/png": "[encoded data removed]"
          },
          "metadata": {}
        }
      ]
    },
    {
      "cell_type": "code",
      "source": [
        "from sklearn.metrics import mean_absolute_error\n",
        "\n",
        "# Menghitung MAE\n",
        "mae = mean_absolute_error(actual_all, predicted_all)\n",
        "print(\"Mean Absolute Error: \", mae)\n"
      ],
      "metadata": {
        "colab": {
          "base_uri": "https://localhost:8080/"
        },
        "id": "OIN3-eIUWdDP",
        "outputId": "81a795c0-38a4-4ef3-a1fa-e9a716fcea23"
      },
      "execution_count": 26,
      "outputs": [
        {
          "output_type": "stream",
          "name": "stdout",
          "text": [
            "Mean Absolute Error:  71.95552671831263\n"
          ]
        }
      ]
    },
    {
      "cell_type": "code",
      "source": [
        "threshold_mae_full = (price.max() - price.min()) * 0.1\n",
        "print(\"Mean Absolute Error Threshold: \", threshold_mae_full)"
      ],
      "metadata": {
        "colab": {
          "base_uri": "https://localhost:8080/"
        },
        "id": "luAsdXVsWfHj",
        "outputId": "c8f6991d-fc44-4dac-e923-2b4119d05be3"
      },
      "execution_count": 27,
      "outputs": [
        {
          "output_type": "stream",
          "name": "stdout",
          "text": [
            "Mean Absolute Error Threshold:  185.99\n"
          ]
        }
      ]
    }
  ]
}